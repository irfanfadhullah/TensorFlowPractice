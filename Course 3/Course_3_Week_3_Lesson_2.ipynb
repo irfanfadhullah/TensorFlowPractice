{
  "nbformat": 4,
  "nbformat_minor": 0,
  "metadata": {
    "accelerator": "GPU",
    "colab": {
      "name": "Course 3 - Week 3 - Lesson 2.ipynb",
      "provenance": [],
      "collapsed_sections": [],
      "toc_visible": true
    },
    "kernelspec": {
      "display_name": "Python 3",
      "language": "python",
      "name": "python3"
    },
    "language_info": {
      "codemirror_mode": {
        "name": "ipython",
        "version": 3
      },
      "file_extension": ".py",
      "mimetype": "text/x-python",
      "name": "python",
      "nbconvert_exporter": "python",
      "pygments_lexer": "ipython3",
      "version": "3.7.6"
    }
  },
  "cells": [
    {
      "cell_type": "code",
      "metadata": {
        "colab_type": "code",
        "id": "zX4Kg8DUTKWO",
        "colab": {}
      },
      "source": [
        "#@title Licensed under the Apache License, Version 2.0 (the \"License\");\n",
        "# you may not use this file except in compliance with the License.\n",
        "# You may obtain a copy of the License at\n",
        "#\n",
        "# https://www.apache.org/licenses/LICENSE-2.0\n",
        "#\n",
        "# Unless required by applicable law or agreed to in writing, software\n",
        "# distributed under the License is distributed on an \"AS IS\" BASIS,\n",
        "# WITHOUT WARRANTIES OR CONDITIONS OF ANY KIND, either express or implied.\n",
        "# See the License for the specific language governing permissions and\n",
        "# limitations under the License."
      ],
      "execution_count": 1,
      "outputs": []
    },
    {
      "cell_type": "markdown",
      "metadata": {
        "id": "3L-0kkljlphs",
        "colab_type": "text"
      },
      "source": [
        "<a href=\"https://colab.research.google.com/github/lmoroney/dlaicourse/blob/master/TensorFlow%20In%20Practice/Course%203%20-%20NLP/Course%203%20-%20Week%203%20-%20Lesson%202.ipynb\" target=\"_parent\"><img src=\"https://colab.research.google.com/assets/colab-badge.svg\" alt=\"Open In Colab\"/></a>"
      ]
    },
    {
      "cell_type": "code",
      "metadata": {
        "colab_type": "code",
        "id": "jGwXGIXvFhXW",
        "colab": {
          "base_uri": "https://localhost:8080/",
          "height": 1000
        },
        "outputId": "64263a47-2cc0-4148-b01f-30dce30c59d8"
      },
      "source": [
        "import numpy as np\n",
        "\n",
        "import json\n",
        "import tensorflow as tf\n",
        "\n",
        "from tensorflow.keras.preprocessing.text import Tokenizer\n",
        "from tensorflow.keras.preprocessing.sequence import pad_sequences\n",
        "\n",
        "!wget --no-check-certificate \\\n",
        "    https://storage.googleapis.com/laurencemoroney-blog.appspot.com/sarcasm.json \\\n",
        "    -O /tmp/sarcasm.json\n",
        "\n",
        "vocab_size = 1000\n",
        "embedding_dim = 16\n",
        "max_length = 120\n",
        "trunc_type='post'\n",
        "padding_type='post'\n",
        "oov_tok = \"<OOV>\"\n",
        "training_size = 20000\n",
        "\n",
        "\n",
        "with open(\"/tmp/sarcasm.json\", 'r') as f:\n",
        "    datastore = json.load(f)\n",
        "\n",
        "\n",
        "sentences = []\n",
        "labels = []\n",
        "urls = []\n",
        "for item in datastore:\n",
        "    sentences.append(item['headline'])\n",
        "    labels.append(item['is_sarcastic'])\n",
        "\n",
        "training_sentences = sentences[0:training_size]\n",
        "testing_sentences = sentences[training_size:]\n",
        "training_labels = labels[0:training_size]\n",
        "testing_labels = labels[training_size:]\n",
        "\n",
        "tokenizer = Tokenizer(num_words=vocab_size, oov_token=oov_tok)\n",
        "tokenizer.fit_on_texts(training_sentences)\n",
        "\n",
        "word_index = tokenizer.word_index\n",
        "\n",
        "training_sequences = tokenizer.texts_to_sequences(training_sentences)\n",
        "training_padded = pad_sequences(training_sequences, maxlen=max_length, padding=padding_type, truncating=trunc_type)\n",
        "\n",
        "testing_sequences = tokenizer.texts_to_sequences(testing_sentences)\n",
        "testing_padded = pad_sequences(testing_sequences, maxlen=max_length, padding=padding_type, truncating=trunc_type)\n",
        "\n",
        "model = tf.keras.Sequential([\n",
        "    tf.keras.layers.Embedding(vocab_size, embedding_dim, input_length=max_length),\n",
        "    tf.keras.layers.Bidirectional(tf.keras.layers.LSTM(32)),\n",
        "    tf.keras.layers.Dense(24, activation='relu'),\n",
        "    tf.keras.layers.Dense(1, activation='sigmoid')\n",
        "])\n",
        "model.compile(loss='binary_crossentropy',optimizer='adam',metrics=['accuracy'])\n",
        "model.summary()\n",
        "\n",
        "num_epochs = 50\n",
        "training_padded = np.array(training_padded)\n",
        "training_labels = np.array(training_labels)\n",
        "testing_padded = np.array(testing_padded)\n",
        "testing_labels = np.array(testing_labels)\n",
        "history = model.fit(training_padded, training_labels, epochs=num_epochs, validation_data=(testing_padded, testing_labels), verbose=1)\n"
      ],
      "execution_count": 2,
      "outputs": [
        {
          "output_type": "stream",
          "text": [
            "--2020-08-05 07:58:44--  https://storage.googleapis.com/laurencemoroney-blog.appspot.com/sarcasm.json\n",
            "Resolving storage.googleapis.com (storage.googleapis.com)... 74.125.23.128, 74.125.203.128, 108.177.97.128, ...\n",
            "Connecting to storage.googleapis.com (storage.googleapis.com)|74.125.23.128|:443... connected.\n",
            "HTTP request sent, awaiting response... 200 OK\n",
            "Length: 5643545 (5.4M) [application/json]\n",
            "Saving to: ‘/tmp/sarcasm.json’\n",
            "\n",
            "\r/tmp/sarcasm.json     0%[                    ]       0  --.-KB/s               \r/tmp/sarcasm.json    74%[=============>      ]   4.01M  9.91MB/s               \r/tmp/sarcasm.json   100%[===================>]   5.38M  13.0MB/s    in 0.4s    \n",
            "\n",
            "2020-08-05 07:58:45 (13.0 MB/s) - ‘/tmp/sarcasm.json’ saved [5643545/5643545]\n",
            "\n",
            "Model: \"sequential\"\n",
            "_________________________________________________________________\n",
            "Layer (type)                 Output Shape              Param #   \n",
            "=================================================================\n",
            "embedding (Embedding)        (None, 120, 16)           16000     \n",
            "_________________________________________________________________\n",
            "bidirectional (Bidirectional (None, 64)                12544     \n",
            "_________________________________________________________________\n",
            "dense (Dense)                (None, 24)                1560      \n",
            "_________________________________________________________________\n",
            "dense_1 (Dense)              (None, 1)                 25        \n",
            "=================================================================\n",
            "Total params: 30,129\n",
            "Trainable params: 30,129\n",
            "Non-trainable params: 0\n",
            "_________________________________________________________________\n",
            "Epoch 1/50\n",
            "625/625 [==============================] - 38s 60ms/step - loss: 0.4468 - accuracy: 0.7771 - val_loss: 0.3850 - val_accuracy: 0.8193\n",
            "Epoch 2/50\n",
            "625/625 [==============================] - 37s 59ms/step - loss: 0.3523 - accuracy: 0.8395 - val_loss: 0.3731 - val_accuracy: 0.8304\n",
            "Epoch 3/50\n",
            "625/625 [==============================] - 36s 58ms/step - loss: 0.3295 - accuracy: 0.8521 - val_loss: 0.3696 - val_accuracy: 0.8334\n",
            "Epoch 4/50\n",
            "625/625 [==============================] - 36s 58ms/step - loss: 0.3116 - accuracy: 0.8601 - val_loss: 0.3760 - val_accuracy: 0.8350\n",
            "Epoch 5/50\n",
            "625/625 [==============================] - 36s 58ms/step - loss: 0.2988 - accuracy: 0.8673 - val_loss: 0.3749 - val_accuracy: 0.8360\n",
            "Epoch 6/50\n",
            "625/625 [==============================] - 36s 58ms/step - loss: 0.2894 - accuracy: 0.8746 - val_loss: 0.3831 - val_accuracy: 0.8307\n",
            "Epoch 7/50\n",
            "625/625 [==============================] - 36s 58ms/step - loss: 0.2833 - accuracy: 0.8752 - val_loss: 0.3933 - val_accuracy: 0.8286\n",
            "Epoch 8/50\n",
            "625/625 [==============================] - 36s 58ms/step - loss: 0.2754 - accuracy: 0.8805 - val_loss: 0.3944 - val_accuracy: 0.8293\n",
            "Epoch 9/50\n",
            "625/625 [==============================] - 36s 58ms/step - loss: 0.2692 - accuracy: 0.8816 - val_loss: 0.3907 - val_accuracy: 0.8328\n",
            "Epoch 10/50\n",
            "625/625 [==============================] - 36s 58ms/step - loss: 0.2640 - accuracy: 0.8863 - val_loss: 0.4085 - val_accuracy: 0.8258\n",
            "Epoch 11/50\n",
            "625/625 [==============================] - 36s 57ms/step - loss: 0.2570 - accuracy: 0.8874 - val_loss: 0.4016 - val_accuracy: 0.8261\n",
            "Epoch 12/50\n",
            "625/625 [==============================] - 36s 57ms/step - loss: 0.2531 - accuracy: 0.8908 - val_loss: 0.4246 - val_accuracy: 0.8235\n",
            "Epoch 13/50\n",
            "625/625 [==============================] - 36s 57ms/step - loss: 0.2456 - accuracy: 0.8938 - val_loss: 0.4270 - val_accuracy: 0.8250\n",
            "Epoch 14/50\n",
            "625/625 [==============================] - 36s 57ms/step - loss: 0.2398 - accuracy: 0.8960 - val_loss: 0.4342 - val_accuracy: 0.8240\n",
            "Epoch 15/50\n",
            "625/625 [==============================] - 36s 58ms/step - loss: 0.2346 - accuracy: 0.9006 - val_loss: 0.4544 - val_accuracy: 0.8208\n",
            "Epoch 16/50\n",
            "625/625 [==============================] - 36s 58ms/step - loss: 0.2262 - accuracy: 0.9038 - val_loss: 0.4478 - val_accuracy: 0.8249\n",
            "Epoch 17/50\n",
            "625/625 [==============================] - 36s 58ms/step - loss: 0.2192 - accuracy: 0.9068 - val_loss: 0.4775 - val_accuracy: 0.8237\n",
            "Epoch 18/50\n",
            "625/625 [==============================] - 36s 58ms/step - loss: 0.2113 - accuracy: 0.9110 - val_loss: 0.5148 - val_accuracy: 0.8213\n",
            "Epoch 19/50\n",
            "625/625 [==============================] - 36s 57ms/step - loss: 0.2064 - accuracy: 0.9133 - val_loss: 0.5014 - val_accuracy: 0.8198\n",
            "Epoch 20/50\n",
            "625/625 [==============================] - 36s 58ms/step - loss: 0.1959 - accuracy: 0.9172 - val_loss: 0.5140 - val_accuracy: 0.8185\n",
            "Epoch 21/50\n",
            "625/625 [==============================] - 36s 58ms/step - loss: 0.1900 - accuracy: 0.9193 - val_loss: 0.5470 - val_accuracy: 0.8167\n",
            "Epoch 22/50\n",
            "625/625 [==============================] - 36s 58ms/step - loss: 0.1833 - accuracy: 0.9231 - val_loss: 0.5601 - val_accuracy: 0.8180\n",
            "Epoch 23/50\n",
            "625/625 [==============================] - 36s 58ms/step - loss: 0.1779 - accuracy: 0.9261 - val_loss: 0.6436 - val_accuracy: 0.8182\n",
            "Epoch 24/50\n",
            "625/625 [==============================] - 36s 58ms/step - loss: 0.1726 - accuracy: 0.9280 - val_loss: 0.6249 - val_accuracy: 0.8101\n",
            "Epoch 25/50\n",
            "625/625 [==============================] - 36s 57ms/step - loss: 0.1659 - accuracy: 0.9302 - val_loss: 0.6271 - val_accuracy: 0.8146\n",
            "Epoch 26/50\n",
            "625/625 [==============================] - 36s 57ms/step - loss: 0.1566 - accuracy: 0.9362 - val_loss: 0.6390 - val_accuracy: 0.8095\n",
            "Epoch 27/50\n",
            "625/625 [==============================] - 36s 57ms/step - loss: 0.1502 - accuracy: 0.9379 - val_loss: 0.6953 - val_accuracy: 0.8043\n",
            "Epoch 28/50\n",
            "625/625 [==============================] - 37s 59ms/step - loss: 0.1433 - accuracy: 0.9421 - val_loss: 0.7616 - val_accuracy: 0.8116\n",
            "Epoch 29/50\n",
            "625/625 [==============================] - 38s 60ms/step - loss: 0.1402 - accuracy: 0.9431 - val_loss: 0.7319 - val_accuracy: 0.8101\n",
            "Epoch 30/50\n",
            "625/625 [==============================] - 37s 59ms/step - loss: 0.1321 - accuracy: 0.9449 - val_loss: 0.8169 - val_accuracy: 0.8071\n",
            "Epoch 31/50\n",
            "625/625 [==============================] - 37s 59ms/step - loss: 0.1231 - accuracy: 0.9499 - val_loss: 0.8265 - val_accuracy: 0.8103\n",
            "Epoch 32/50\n",
            "625/625 [==============================] - 37s 60ms/step - loss: 0.1243 - accuracy: 0.9491 - val_loss: 0.8690 - val_accuracy: 0.8109\n",
            "Epoch 33/50\n",
            "625/625 [==============================] - 37s 59ms/step - loss: 0.1142 - accuracy: 0.9548 - val_loss: 0.9596 - val_accuracy: 0.8079\n",
            "Epoch 34/50\n",
            "625/625 [==============================] - 37s 60ms/step - loss: 0.1094 - accuracy: 0.9556 - val_loss: 0.9686 - val_accuracy: 0.8052\n",
            "Epoch 35/50\n",
            "625/625 [==============================] - 38s 60ms/step - loss: 0.1047 - accuracy: 0.9585 - val_loss: 0.9727 - val_accuracy: 0.8043\n",
            "Epoch 36/50\n",
            "625/625 [==============================] - 37s 60ms/step - loss: 0.1011 - accuracy: 0.9596 - val_loss: 1.0857 - val_accuracy: 0.8022\n",
            "Epoch 37/50\n",
            "625/625 [==============================] - 38s 60ms/step - loss: 0.0945 - accuracy: 0.9617 - val_loss: 1.0667 - val_accuracy: 0.8086\n",
            "Epoch 38/50\n",
            "625/625 [==============================] - 38s 60ms/step - loss: 0.0892 - accuracy: 0.9638 - val_loss: 1.2212 - val_accuracy: 0.7977\n",
            "Epoch 39/50\n",
            "625/625 [==============================] - 38s 60ms/step - loss: 0.0894 - accuracy: 0.9636 - val_loss: 1.2580 - val_accuracy: 0.8007\n",
            "Epoch 40/50\n",
            "625/625 [==============================] - 38s 60ms/step - loss: 0.0853 - accuracy: 0.9655 - val_loss: 1.2135 - val_accuracy: 0.7988\n",
            "Epoch 41/50\n",
            "625/625 [==============================] - 38s 60ms/step - loss: 0.0777 - accuracy: 0.9675 - val_loss: 1.3797 - val_accuracy: 0.8032\n",
            "Epoch 42/50\n",
            "625/625 [==============================] - 37s 60ms/step - loss: 0.0753 - accuracy: 0.9688 - val_loss: 1.4022 - val_accuracy: 0.8010\n",
            "Epoch 43/50\n",
            "625/625 [==============================] - 37s 60ms/step - loss: 0.0796 - accuracy: 0.9679 - val_loss: 1.3336 - val_accuracy: 0.8027\n",
            "Epoch 44/50\n",
            "625/625 [==============================] - 37s 59ms/step - loss: 0.0709 - accuracy: 0.9712 - val_loss: 1.3998 - val_accuracy: 0.7980\n",
            "Epoch 45/50\n",
            "625/625 [==============================] - 37s 60ms/step - loss: 0.0713 - accuracy: 0.9714 - val_loss: 1.3680 - val_accuracy: 0.7986\n",
            "Epoch 46/50\n",
            "625/625 [==============================] - 37s 60ms/step - loss: 0.0672 - accuracy: 0.9740 - val_loss: 1.4041 - val_accuracy: 0.7973\n",
            "Epoch 47/50\n",
            "625/625 [==============================] - 37s 60ms/step - loss: 0.0653 - accuracy: 0.9735 - val_loss: 1.4940 - val_accuracy: 0.8001\n",
            "Epoch 48/50\n",
            "625/625 [==============================] - 37s 60ms/step - loss: 0.0592 - accuracy: 0.9762 - val_loss: 1.5526 - val_accuracy: 0.7965\n",
            "Epoch 49/50\n",
            "625/625 [==============================] - 38s 60ms/step - loss: 0.0570 - accuracy: 0.9761 - val_loss: 1.5652 - val_accuracy: 0.8022\n",
            "Epoch 50/50\n",
            "625/625 [==============================] - 37s 60ms/step - loss: 0.0568 - accuracy: 0.9762 - val_loss: 1.6653 - val_accuracy: 0.7986\n"
          ],
          "name": "stdout"
        }
      ]
    },
    {
      "cell_type": "code",
      "metadata": {
        "colab_type": "code",
        "id": "g9DC6dmLF8DC",
        "colab": {
          "base_uri": "https://localhost:8080/",
          "height": 541
        },
        "outputId": "b9d65d22-01f1-4b64-f7d3-60aae431c7da"
      },
      "source": [
        "import matplotlib.pyplot as plt\n",
        "\n",
        "\n",
        "def plot_graphs(history, string):\n",
        "  plt.plot(history.history[string])\n",
        "  plt.plot(history.history['val_'+string])\n",
        "  plt.xlabel(\"Epochs\")\n",
        "  plt.ylabel(string)\n",
        "  plt.legend([string, 'val_'+string])\n",
        "  plt.show()\n",
        "\n",
        "plot_graphs(history, 'accuracy')\n",
        "plot_graphs(history, 'loss')"
      ],
      "execution_count": 3,
      "outputs": [
        {
          "output_type": "display_data",
          "data": {
            "image/png": "[encoded data removed]",
            "text/plain": [
              "<Figure size 432x288 with 1 Axes>"
            ]
          },
          "metadata": {
            "tags": [],
            "needs_background": "light"
          }
        },
        {
          "output_type": "display_data",
          "data": {
            "image/png": "[encoded data removed]",
            "text/plain": [
              "<Figure size 432x288 with 1 Axes>"
            ]
          },
          "metadata": {
            "tags": [],
            "needs_background": "light"
          }
        }
      ]
    },
    {
      "cell_type": "code",
      "metadata": {
        "colab_type": "code",
        "id": "7ZEZIUppGhdi",
        "colab": {}
      },
      "source": [
        "model.save(\"test.h5\")"
      ],
      "execution_count": 4,
      "outputs": []
    }
  ]
}